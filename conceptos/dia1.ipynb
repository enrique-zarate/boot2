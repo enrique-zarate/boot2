{
 "cells": [
  {
   "cell_type": "code",
   "execution_count": 3,
   "metadata": {},
   "outputs": [
    {
     "name": "stdout",
     "output_type": "stream",
     "text": [
      "Hola Hernandarias\n"
     ]
    },
    {
     "ename": "NameError",
     "evalue": "name 'hola' is not defined",
     "output_type": "error",
     "traceback": [
      "\u001b[0;31m---------------------------------------------------------------------------\u001b[0m",
      "\u001b[0;31mNameError\u001b[0m                                 Traceback (most recent call last)",
      "\u001b[1;32m/mnt/c/Dev/boot2/conceptos/dia1.ipynb Celda 1\u001b[0m in \u001b[0;36m<module>\u001b[0;34m\u001b[0m\n\u001b[1;32m      <a href='vscode-notebook-cell://wsl%2Bubuntu/mnt/c/Dev/boot2/conceptos/dia1.ipynb#W2sdnNjb2RlLXJlbW90ZQ%3D%3D?line=0'>1</a>\u001b[0m \u001b[39mprint\u001b[39m(\u001b[39m\"\u001b[39m\u001b[39mHola Hernandarias\u001b[39m\u001b[39m\"\u001b[39m)\n\u001b[0;32m----> <a href='vscode-notebook-cell://wsl%2Bubuntu/mnt/c/Dev/boot2/conceptos/dia1.ipynb#W2sdnNjb2RlLXJlbW90ZQ%3D%3D?line=1'>2</a>\u001b[0m hola\n",
      "\u001b[0;31mNameError\u001b[0m: name 'hola' is not defined"
     ]
    }
   ],
   "source": [
    "print(\"Hola Hernandarias\")\n",
    "hola"
   ]
  },
  {
   "cell_type": "markdown",
   "metadata": {},
   "source": [
    "La clase de hoy es genial"
   ]
  },
  {
   "cell_type": "markdown",
   "metadata": {},
   "source": [
    "Variables"
   ]
  },
  {
   "cell_type": "code",
   "execution_count": 8,
   "metadata": {},
   "outputs": [
    {
     "name": "stdout",
     "output_type": "stream",
     "text": [
      "hola\n",
      "woaf\n",
      "woaf\n"
     ]
    }
   ],
   "source": [
    "variable = \"hola\"\n",
    "print(variable)\n",
    "cajita = \"plasticola\"\n",
    "\n",
    "\n",
    "ladra = \"woaf\"\n",
    "print(ladra)\n",
    "print(ladra)"
   ]
  },
  {
   "cell_type": "markdown",
   "metadata": {},
   "source": [
    "## Tipos de datos"
   ]
  },
  {
   "cell_type": "code",
   "execution_count": 11,
   "metadata": {},
   "outputs": [],
   "source": [
    "# asi se escribe un comentario\n",
    "\n",
    "ladra = \"woaf\"  # str -> string -> texto \n",
    "edad = 25       # int -> integer -> numero entero\n",
    "es_mayor_de_edad = True # bool -> boolean -> booleano \n",
    "es_mayor_de_edad = False\n",
    "peso = 1.5521546      # float -> float -> numero flotante "
   ]
  },
  {
   "cell_type": "code",
   "execution_count": 20,
   "metadata": {},
   "outputs": [
    {
     "name": "stdout",
     "output_type": "stream",
     "text": [
      "200000000\n"
     ]
    }
   ],
   "source": [
    "precio_del_telebingo = 20000\n",
    "precio_de_pan = 10000\n",
    "\n",
    "# +, -, /, * \n",
    "\n",
    "10000 + 7500\n",
    "total = precio_del_telebingo * precio_de_pan\n",
    "print(total)"
   ]
  },
  {
   "cell_type": "markdown",
   "metadata": {},
   "source": [
    "## Challenge"
   ]
  },
  {
   "cell_type": "markdown",
   "metadata": {},
   "source": [
    "Suma: asignar dos números en dos variables diferentes   `cantidad_de_manzanas` y `cantidad_de_naranjas`. Luego sumar ambas variables en `cantidad_de_frutas`. Imprimir la última variable.\n",
    "\n",
    "Resta: asignar un valor numérico a la variable `frutas_vendidas`. Luego, asignar la resta entre `cantidad_de_frutas` y `frutas_vendidas` a la variable `frutas_restantes`. Imprimir la última variable."
   ]
  },
  {
   "cell_type": "code",
   "execution_count": 21,
   "metadata": {},
   "outputs": [
    {
     "name": "stdout",
     "output_type": "stream",
     "text": [
      "17\n",
      "11\n"
     ]
    }
   ],
   "source": [
    "# Resolucion de Santiago\n",
    "\n",
    "#suma \n",
    "from random import randint as ra \n",
    "cantidad_de_manazanas= ra(1,9) # 1, 2, 3, 4, 5, 6, 7, 8\n",
    "cantidad_de_narajas = ra(1,9)\n",
    "cantidad_de_frutas= cantidad_de_manazanas + cantidad_de_narajas\n",
    "print(cantidad_de_frutas)\n",
    "#resta\n",
    "frutas_vendidas = ra(1,cantidad_de_frutas)\n",
    "frutas_restantes= cantidad_de_frutas-frutas_vendidas\n",
    "print(frutas_restantes)"
   ]
  },
  {
   "cell_type": "code",
   "execution_count": 26,
   "metadata": {},
   "outputs": [
    {
     "name": "stdout",
     "output_type": "stream",
     "text": [
      "33\n",
      "Cantidad Aleatoria 25\n"
     ]
    }
   ],
   "source": [
    "# Solucion de Marcos\n",
    "import random\n",
    "c_m = random.randint(8,20)\n",
    "c_n = random.randint(8,20)\n",
    "\n",
    "cantidad_de_manzanas = c_m\n",
    "cantidad_de_naranjas = c_n\n",
    "cantidad_de_frutas = cantidad_de_manzanas + cantidad_de_naranjas\n",
    "print(cantidad_de_frutas)\n",
    "\n",
    "frutas_vendidas = 8\n",
    "cantidad_de_frutas = cantidad_de_manzanas + cantidad_de_naranjas\n",
    "\n",
    "\n",
    "frutas_restantes = cantidad_de_frutas - frutas_vendidas\n",
    "print(\"Cantidad Aleatoria\",frutas_restantes)"
   ]
  },
  {
   "cell_type": "code",
   "execution_count": 30,
   "metadata": {},
   "outputs": [
    {
     "name": "stdout",
     "output_type": "stream",
     "text": [
      "la cantidad de frutas es\n",
      "33\n",
      "La cantidad de frutas es: 33\n"
     ]
    }
   ],
   "source": [
    "print(\"la cantidad de frutas es\")\n",
    "print(cantidad_de_frutas)\n",
    "\n",
    "print(f\"La cantidad de frutas es: {cantidad_de_frutas}\")"
   ]
  },
  {
   "cell_type": "markdown",
   "metadata": {},
   "source": [
    "## input()"
   ]
  },
  {
   "cell_type": "code",
   "execution_count": 31,
   "metadata": {},
   "outputs": [
    {
     "data": {
      "text/plain": [
       "'hdfghdfghdfghdfghdfgh'"
      ]
     },
     "execution_count": 31,
     "metadata": {},
     "output_type": "execute_result"
    }
   ],
   "source": [
    "input()"
   ]
  },
  {
   "cell_type": "code",
   "execution_count": 41,
   "metadata": {},
   "outputs": [
    {
     "name": "stdout",
     "output_type": "stream",
     "text": [
      "La compra numero 1 es: \n"
     ]
    }
   ],
   "source": [
    "# Lista del super\n",
    "compra1 = input()\n",
    "print(f\"La compra numero 1 es: {compra1}\")"
   ]
  },
  {
   "cell_type": "markdown",
   "metadata": {},
   "source": [
    "### Listar los nombres de los integrantes de tu mesa con input e imprimir con formato\n",
    "\n",
    "Nombre: Fulano de Tal\n",
    "Nombre: Menganito\n"
   ]
  },
  {
   "cell_type": "code",
   "execution_count": null,
   "metadata": {},
   "outputs": [],
   "source": []
  },
  {
   "cell_type": "code",
   "execution_count": 43,
   "metadata": {},
   "outputs": [
    {
     "name": "stdout",
     "output_type": "stream",
     "text": [
      "El nombre del segundo integrante es: asdas\n",
      "asd\n",
      "asd\n",
      "asd\n",
      "asd\n",
      "Mati\n"
     ]
    }
   ],
   "source": [
    "# Solucion de Jonsan \n",
    "nombre_del_primer_integrante = input(\"ingrese el nombre del primer integrante\")\n",
    "nombre_del_segundo_integrante = input(\"ingrese el nombre del segundo integrante\")\n",
    "nombre_del_tercer_integrante = input(\"nombre del tercer integrante\")\n",
    "nombre_del_cuarto_integrante = input(\"nombre del cuarto integrante\")\n",
    "nombre_del_quinto_integrante = input(\"nombre del quinto integrante\")\n",
    "nombre_del_sexto_integrante = input(\"nombre del sexto integrante\")\n",
    "\n",
    "print(f\"El nombre del segundo integrante es: {nombre_del_segundo_integrante}\")\n",
    "print(nombre_del_tercer_integrante)\n",
    "print(nombre_del_cuarto_integrante)\n",
    "print(nombre_del_quinto_integrante)\n",
    "print(nombre_del_sexto_integrante)\n",
    "print(nombre_del_primer_integrante)"
   ]
  },
  {
   "cell_type": "markdown",
   "metadata": {},
   "source": [
    "## Conversion de datos"
   ]
  },
  {
   "cell_type": "markdown",
   "metadata": {},
   "source": [
    "### int()"
   ]
  },
  {
   "cell_type": "code",
   "execution_count": 53,
   "metadata": {},
   "outputs": [
    {
     "name": "stdout",
     "output_type": "stream",
     "text": [
      "el total 2 es:6500\n"
     ]
    }
   ],
   "source": [
    "# input, para pedir datos al usuario\n",
    "precio1 = input(\"ingrese el precio 1\")\n",
    "precio2 = input(\"ingrese el precio 2\")\n",
    "\n",
    "# sumamos y almacenamos en una variable\n",
    "total = precio1 + precio2   # aca sumo dos variables y almceno el resultado\n",
    "\n",
    "# convertimos los datos a entero (numeros)\n",
    "precio1_numero = int(precio1)\n",
    "precio2_numero = int(precio2)\n",
    "\n",
    "# sumar los datos numericos y almacenarlo\n",
    "total2 = precio1_numero + precio2_numero\n",
    "\n",
    "# imprimo el resultado\n",
    "print(f\"el total 2 es:{total2}\")"
   ]
  },
  {
   "cell_type": "markdown",
   "metadata": {},
   "source": [
    "## crear una vaquita\n",
    "### pedirle al usuario:\n",
    " - el monto total de la compra\n",
    " - cantidad de personas\n",
    "\n",
    "### imprimir asi:\n",
    "El monto total es de: 10000\n",
    "La cantidad de personas es: 5\n",
    "Cada uno debe pagar: 2000"
   ]
  },
  {
   "cell_type": "markdown",
   "metadata": {},
   "source": [
    "## Funciones"
   ]
  },
  {
   "cell_type": "code",
   "execution_count": 57,
   "metadata": {},
   "outputs": [
    {
     "name": "stdout",
     "output_type": "stream",
     "text": [
      "Agarra producto\n",
      "Escanea el producto\n",
      "suma al total\n",
      "empaquetar\n",
      "Agarra producto\n",
      "Escanea el producto\n",
      "suma al total\n",
      "empaquetar\n",
      "Agarra producto\n",
      "Escanea el producto\n",
      "suma al total\n",
      "empaquetar\n",
      "Agarra producto\n",
      "Escanea el producto\n",
      "suma al total\n",
      "empaquetar\n"
     ]
    }
   ],
   "source": [
    "# declaracion\n",
    "def compra_de_super():\n",
    "    print(\"Agarra producto\")\n",
    "    print(\"Escanea el producto\")\n",
    "    print(\"suma al total\")\n",
    "    print(\"empaquetar\")\n",
    "    \n",
    "\n",
    "# llamada a la funcion\n",
    "compra_de_super()\n",
    "compra_de_super()\n",
    "compra_de_super()\n",
    "compra_de_super()"
   ]
  }
 ],
 "metadata": {
  "kernelspec": {
   "display_name": "Python 3.8.10 64-bit",
   "language": "python",
   "name": "python3"
  },
  "language_info": {
   "codemirror_mode": {
    "name": "ipython",
    "version": 3
   },
   "file_extension": ".py",
   "mimetype": "text/x-python",
   "name": "python",
   "nbconvert_exporter": "python",
   "pygments_lexer": "ipython3",
   "version": "3.8.10"
  },
  "orig_nbformat": 4,
  "vscode": {
   "interpreter": {
    "hash": "916dbcbb3f70747c44a77c7bcd40155683ae19c65e1c03b4aa3499c5328201f1"
   }
  }
 },
 "nbformat": 4,
 "nbformat_minor": 2
}
